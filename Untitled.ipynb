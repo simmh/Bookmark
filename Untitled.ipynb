{
 "cells": [
  {
   "cell_type": "code",
   "execution_count": 32,
   "metadata": {},
   "outputs": [
    {
     "name": "stdout",
     "output_type": "stream",
     "text": [
      "{'title': '노병의 맛집 기행', 'url': None, 'image': None, 'description': None}\n"
     ]
    },
    {
     "name": "stderr",
     "output_type": "stream",
     "text": [
      "C:\\Users\\whattheshim\\Envs\\bookmark\\lib\\site-packages\\metadata_parser\\__init__.py:1005: FutureWarning: `search_head_only` was not provided and defaulting to `True` Future versions will default to `False`.\n",
      "  warn_future(\"\"\"`search_head_only` was not provided and defaulting to `True` \"\"\"\n"
     ]
    }
   ],
   "source": [
    "from bs4 import BeautifulSoup\n",
    "import metadata_parser\n",
    "import bleach\n",
    "\n",
    "url =[\n",
    "    # naver blog\n",
    "    'https://blog.naver.com/bessgo/221227429246',\n",
    "    'https://blog.naver.com/juneeeeeee/221225818069',\n",
    "    #다음 블로그\n",
    "    'http://blog.daum.net/leehungkyu/2176?bt_nil_d=0312_4',\n",
    "    #egloos\n",
    "    'http://runtorun.egloos.com/1263788',\n",
    "]\n",
    "\n",
    "meta_data = {\n",
    "    'title': '',\n",
    "    'url': '',\n",
    "    'domain':'',\n",
    "    'image': '',\n",
    "    'description': '',    \n",
    "}\n",
    "\n",
    "\n",
    "page = metadata_parser.MetadataParser(url[2])\n",
    "data = {\n",
    "    'title': page.get_metadata('title'),\n",
    "    'url': page.get_metadata('url'),\n",
    "    'image': page.get_metadata('image'),\n",
    "    'description': page.get_metadata('description'),\n",
    "}\n",
    "\n",
    "\n",
    "\n",
    "\n",
    "print(data)"
   ]
  },
  {
   "cell_type": "code",
   "execution_count": null,
   "metadata": {},
   "outputs": [],
   "source": []
  }
 ],
 "metadata": {
  "kernelspec": {
   "display_name": "Django Shell-Plus",
   "language": "python",
   "name": "django_extensions"
  },
  "language_info": {
   "codemirror_mode": {
    "name": "ipython",
    "version": 3
   },
   "file_extension": ".py",
   "mimetype": "text/x-python",
   "name": "python",
   "nbconvert_exporter": "python",
   "pygments_lexer": "ipython3",
   "version": "3.6.4"
  }
 },
 "nbformat": 4,
 "nbformat_minor": 2
}
