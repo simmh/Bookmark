{
 "cells": [
  {
   "cell_type": "code",
   "execution_count": 25,
   "metadata": {},
   "outputs": [
    {
     "name": "stdout",
     "output_type": "stream",
     "text": [
      "False\n"
     ]
    }
   ],
   "source": [
    "from urllib.parse import urlparse\n",
    "from bs4 import BeautifulSoup\n",
    "import metadata_parser\n",
    "import requests\n",
    "import bleach\n",
    "import logging\n",
    "logger = logging.getLogger('django')\n",
    "# logger.info('file: %s' % file)\n",
    "\n",
    "def to_html_bs(url, o=None):\n",
    "    # hdr = {'User-Agent': 'Mozilla/5.0', 'referer' :'http://m.naver.com' }\n",
    "    headers = {\n",
    "        'Referer': url,\n",
    "        'user-agent': 'my-app/0.0.1',\n",
    "    }\n",
    "    headers2 = {\n",
    "        'User-agent': 'Mozilla/5.0 (Windows NT 6.1; WOW64) AppleWebKit/537.36 (KHTML, like Gecko) Chrome/29.0.1547.76 Safari/537.36',\n",
    "        'Accept': 'text/html,application/xhtml+xml,application/xml;q=0.9,*/*;q=0.8',\n",
    "        'Accept-Encoding': 'gzip,deflate,sdch',\n",
    "        'Referer': 'http://aussietaste.recipes/vegetables/leek-vegetables/leek-and-sweet-potato-gratin/'\n",
    "    }\n",
    "\n",
    "#     try:\n",
    "    html = requests.get(url, headers=headers).text\n",
    "    logger.info('html: %s' % html)\n",
    "    html_bs = BeautifulSoup(html, 'html.parser')\n",
    "    logger.info('html_bs: %s' % html_bs)\n",
    "#     except:\n",
    "#         html_bs = None\n",
    "    return html_bs\n",
    "\n",
    "\n",
    "'''\n",
    "오부장 치킨\n",
    "\n",
    "url check\n",
    "\n",
    "if http or https\n",
    "    url 연결체크\n",
    "else\n",
    "    http + url 연결 체크\n",
    "    https + url 연결 체크\n",
    "\n",
    "if 예외 url\n",
    "    실제 소스 주소 + url 연결 체크\n",
    "    html 파싱 저장\n",
    "    html 파싱 url 추출\n",
    "else\n",
    "    메타데이타 추줄\n",
    "\n",
    "'''\n",
    "\n",
    "\n",
    "def is_except_url(url):\n",
    "    naver_attrs = {'id':'mainFrame'}\n",
    "    daum_attrs = {'name':'BlogMain'}\n",
    "\n",
    "    except_url ={\n",
    "        # naver\n",
    "        'blog.naver.com':naver_attrs,\n",
    "        'm.blog.naver.com':naver_attrs,\n",
    "        # daum\n",
    "        'blog.daum.net': daum_attrs,\n",
    "        'm.blog.daum.net': daum_attrs,\n",
    "    }\n",
    "    \n",
    "    if parsed_url.netloc in except_url.keys():\n",
    "        return True \n",
    "    else: \n",
    "        return False\n",
    "    \n",
    "\n",
    "URL='https://blog.naver.com/juneeeeeee/221225818069',\n",
    "parsed_url = urlparse(url)  \n",
    "# print(to_html_bs(url))\n",
    "print(is_except_url(parsed_url))"
   ]
  },
  {
   "cell_type": "code",
   "execution_count": null,
   "metadata": {},
   "outputs": [],
   "source": []
  },
  {
   "cell_type": "code",
   "execution_count": null,
   "metadata": {},
   "outputs": [],
   "source": []
  }
 ],
 "metadata": {
  "kernelspec": {
   "display_name": "Django Shell-Plus",
   "language": "python",
   "name": "django_extensions"
  },
  "language_info": {
   "codemirror_mode": {
    "name": "ipython",
    "version": 3
   },
   "file_extension": ".py",
   "mimetype": "text/x-python",
   "name": "python",
   "nbconvert_exporter": "python",
   "pygments_lexer": "ipython3",
   "version": "3.6.3"
  }
 },
 "nbformat": 4,
 "nbformat_minor": 2
}
