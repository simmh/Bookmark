{
 "cells": [
  {
   "cell_type": "code",
   "execution_count": 37,
   "metadata": {},
   "outputs": [
    {
     "name": "stdout",
     "output_type": "stream",
     "text": [
      "{'title': '노병의 맛집 기행', 'url': None, 'image': None, 'description': None, 'domain': None}\n"
     ]
    },
    {
     "name": "stderr",
     "output_type": "stream",
     "text": [
      "C:\\Users\\whattheshim\\Envs\\bookmark\\lib\\site-packages\\metadata_parser\\__init__.py:1005: FutureWarning: `search_head_only` was not provided and defaulting to `True` Future versions will default to `False`.\n",
      "  warn_future(\"\"\"`search_head_only` was not provided and defaulting to `True` \"\"\"\n"
     ]
    }
   ],
   "source": [
    "from bs4 import BeautifulSoup\n",
    "import metadata_parser\n",
    "import bleach\n",
    "\n",
    "url =[\n",
    "    # naver blog\n",
    "    'https://blog.naver.com/bessgo/221227429246',\n",
    "    'https://blog.naver.com/juneeeeeee/221225818069',\n",
    "    #다음 블로그\n",
    "    'http://blog.daum.net/leehungkyu/2176?bt_nil_d=0312_4',\n",
    "    #egloos\n",
    "    'http://runtorun.egloos.com/1263788',\n",
    "]\n",
    "\n",
    "meta_data = {\n",
    "    'title': '',\n",
    "    'url': '',\n",
    "    'domain':'',\n",
    "    'image': '',\n",
    "    'description': '',\n",
    "    'fixed_url':''\n",
    "}\n",
    "\n",
    "\n",
    "\n",
    "\n",
    "one_img_site = [\n",
    "    'twitter.com',\n",
    "    # 'blog.naver.com',\n",
    "    # 'm.blog.naver.com',\n",
    "]\n",
    "\n",
    "page = metadata_parser.MetadataParser(url[2])\n",
    "data = {\n",
    "    'title': page.get_metadata('title'),\n",
    "    'url': page.get_metadata('url'),\n",
    "    'image': page.get_metadata('image'),\n",
    "    'description': page.get_metadata('description'),\n",
    "    'domain': page.get_metadata('domain'),\n",
    "}\n",
    "\n",
    "def fix_url(url):\n",
    "    naver_attrs = {'id':'mainFrame'}\n",
    "    daum_attrs = {'name':'BlogMain'}\n",
    "\n",
    "    except_url ={\n",
    "        # naver\n",
    "        'blog.naver.com':naver_attrs,\n",
    "        'm.blog.naver.com':naver_attrs,\n",
    "        # daum\n",
    "        'blog.daum.net': daum_attrs,\n",
    "        'm.blog.daum.net': daum_attrs,\n",
    "    }\n",
    "\n",
    "\n",
    "    parsed_url = urlparse(url)    \n",
    "    domain = parsed_url.scheme + '://' + parsed_url.netloc\n",
    "\n",
    "    if parsed_url.netloc in except_url.keys():\n",
    "        try:\n",
    "            find_url = html.find('frame', attrs = except_url[parsed_url.netloc])['src']\n",
    "            fixed_url = exists2(fixed_url, domain_url)\n",
    "            if fixed_url:\n",
    "                # if not exists(fixed_url):\n",
    "                #     return HttpResponseBadRequest(_('no requets.get fixed url'))\n",
    "                html = url_to_html(fixed_url)\n",
    "        except:\n",
    "            # return HttpResponseBadRequest(_('no requets.get fixed url'))\n",
    "            pass\n",
    "\n",
    "\n",
    "\n",
    "print(data)"
   ]
  },
  {
   "cell_type": "code",
   "execution_count": null,
   "metadata": {},
   "outputs": [],
   "source": []
  }
 ],
 "metadata": {
  "kernelspec": {
   "display_name": "Django Shell-Plus",
   "language": "python",
   "name": "django_extensions"
  },
  "language_info": {
   "codemirror_mode": {
    "name": "ipython",
    "version": 3
   },
   "file_extension": ".py",
   "mimetype": "text/x-python",
   "name": "python",
   "nbconvert_exporter": "python",
   "pygments_lexer": "ipython3",
   "version": "3.6.4"
  }
 },
 "nbformat": 4,
 "nbformat_minor": 2
}
