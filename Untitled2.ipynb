{
 "cells": [
  {
   "cell_type": "code",
   "execution_count": 4,
   "metadata": {},
   "outputs": [
    {
     "name": "stdout",
     "output_type": "stream",
     "text": [
      "False\n"
     ]
    }
   ],
   "source": [
    "qr ='moon'\n",
    "qr='star'\n",
    "\n",
    "if qr and not qr == 'star':\n",
    "    print(True)\n",
    "else:\n",
    "    print(False)\n",
    "    "
   ]
  },
  {
   "cell_type": "code",
   "execution_count": 19,
   "metadata": {},
   "outputs": [
    {
     "name": "stdout",
     "output_type": "stream",
     "text": [
      "True\n",
      "False\n"
     ]
    }
   ],
   "source": [
    "b=Bookmark.objects.get(pk=1)\n",
    "print(b.star)\n",
    "b.star = False if b.star else True\n",
    "b.save()\n",
    "print(b.star)\n",
    "\n"
   ]
  },
  {
   "cell_type": "code",
   "execution_count": 45,
   "metadata": {},
   "outputs": [
    {
     "data": {
      "text/plain": [
       "''"
      ]
     },
     "execution_count": 45,
     "metadata": {},
     "output_type": "execute_result"
    }
   ],
   "source": [
    "from urllib.parse import urlparse\n",
    "from bs4 import BeautifulSoup\n",
    "import metadata_parser\n",
    "import requests\n",
    "import logging\n",
    "logger = logging.getLogger('django')\n",
    "\n",
    "\n",
    "def get_html_and_bs(url):   \n",
    "        headers = {'Referer': url,'user-agent': 'my-app/0.0.1'}\n",
    "        html = requests.get(url, headers=headers).text\n",
    "        html_bs = BeautifulSoup(html, 'html.parser')\n",
    "        return {'html': html, 'bs': html_bs}\n",
    "    \n",
    "url = 'https://blueshw.github.io/2016/01/22/2016-01-22-python-conditional-ternary-operator/'\n",
    "# url = 'https://www.reddit.com/r/django/comments/2bdzse/how_to_test_django_post_requests_using_curl/'\n",
    "# url='https://www.crummy.com/software/BeautifulSoup/bs4/doc/#find-all'\n",
    "bs = get_html_and_bs(url)['bs']\n",
    "\n",
    "fivicon_url  = bs.find(rel='shortcut').get('href')\n",
    "\n",
    "\n",
    "\n",
    "\n",
    "parsed_url = urlparse(fivicon_url)\n",
    "parsed_url.netloc"
   ]
  },
  {
   "cell_type": "code",
   "execution_count": null,
   "metadata": {},
   "outputs": [],
   "source": []
  }
 ],
 "metadata": {
  "kernelspec": {
   "display_name": "Django Shell-Plus",
   "language": "python",
   "name": "django_extensions"
  },
  "language_info": {
   "codemirror_mode": {
    "name": "ipython",
    "version": 3
   },
   "file_extension": ".py",
   "mimetype": "text/x-python",
   "name": "python",
   "nbconvert_exporter": "python",
   "pygments_lexer": "ipython3",
   "version": "3.6.4"
  }
 },
 "nbformat": 4,
 "nbformat_minor": 2
}
